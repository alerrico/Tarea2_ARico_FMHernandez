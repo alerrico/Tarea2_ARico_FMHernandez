{
 "cells": [
  {
   "cell_type": "markdown",
   "metadata": {},
   "source": [
    "<img style=\"float: left; margin: 30px 15px 15px 15px;\" src=\"https://pngimage.net/wp-content/uploads/2018/06/logo-iteso-png-5.png\" width=\"300\" height=\"500\" /> \n",
    "    \n",
    "    \n",
    "### <font color='navy'> Simulación de procesos financieros. \n",
    "\n",
    "**Nombres:** Alejandra Rico Rosales, Frida María Hernández López.\n",
    "\n",
    "**Fecha:** 09 de septiembre del 2021.\n",
    "\n",
    "**Expediente:** 720838, 720476.\n",
    "    \n",
    "**Profesor:** Oscar David Jaramillo Zuluaga.\n",
    "    \n",
    "**Link Github:** [Link con el enlace del repositorio del creador del proyecto](https://github.com/alerrico/Tarea2_ARico_FMHernandez)\n",
    "\n",
    "# Tarea 2: Clase 4"
   ]
  },
  {
   "cell_type": "code",
   "execution_count": 2,
   "metadata": {},
   "outputs": [],
   "source": [
    "import pandas as pd\n",
    "import numpy as np\n",
    "from functools import reduce"
   ]
  },
  {
   "cell_type": "markdown",
   "metadata": {},
   "source": [
    "## Enunciado de tarea (Transcribirlo)"
   ]
  },
  {
   "cell_type": "markdown",
   "metadata": {},
   "source": [
    "> 1. Imagine una rutina contable utilizada en una librería. Funciona en una lista con sublistas. Escriba un programa en Python, que devuelve una lista con tuplas de tamaño 2. Cada tupla consiste en el número de pedido y el costo total del pedido. El producto debe aumentarse en 10€ si el valor de la orden es inferior a 100,00 €. \n",
    "Escribe un programa Python usando unicamente las funciones **lambda y map**."
   ]
  },
  {
   "cell_type": "markdown",
   "metadata": {},
   "source": [
    "#### Código de solución `ESTUDIANTE 1: ALEJANDRA RICO`"
   ]
  },
  {
   "cell_type": "code",
   "execution_count": 3,
   "metadata": {},
   "outputs": [
    {
     "data": {
      "text/plain": [
       "[('34587', 163.8),\n",
       " ('98762', 284.0),\n",
       " ('77226', 108.85000000000001),\n",
       " ('88112', 84.97)]"
      ]
     },
     "execution_count": 3,
     "metadata": {},
     "output_type": "execute_result"
    }
   ],
   "source": [
    "orders = [[\"34587\", \"Learning Python, Mark Lutz\", 4, 40.95], \n",
    "          [\"98762\", \"Programming Python, Mark Lutz\", 5, 56.80], \n",
    "          [\"77226\", \"Head First Python, Paul Barry\", 3,32.95],\n",
    "          [\"88112\", \"Einführung in Python3, Bernd Klein\", 3, 24.99]]\n",
    "\n",
    "r1 = list(map(lambda n: (n[0], n[2]*n[3] if n[2]*n[3] >= 100 else n[2]*n[3]+10), orders))\n",
    "r1"
   ]
  },
  {
   "cell_type": "markdown",
   "metadata": {},
   "source": [
    "#### Código de solución `ESTUDIANTE 2: FRIDA HERNÁNDEZ`"
   ]
  },
  {
   "cell_type": "code",
   "execution_count": 2,
   "metadata": {},
   "outputs": [
    {
     "data": {
      "text/plain": [
       "[('34587', 163.8),\n",
       " ('98762', 284.0),\n",
       " ('77226', 108.85000000000001),\n",
       " ('88112', 84.97)]"
      ]
     },
     "execution_count": 2,
     "metadata": {},
     "output_type": "execute_result"
    }
   ],
   "source": [
    "import numpy as np\n",
    "orders = [ [\"34587\", \"Learning Python, Mark Lutz\", 4, 40.95], \n",
    "           [\"98762\", \"Programming Python, Mark Lutz\", 5, 56.80], \n",
    "           [\"77226\", \"Head First Python, Paul Barry\", 3,32.95],\n",
    "           [\"88112\", \"Einführung in Python3, Bernd Klein\", 3, 24.99]]\n",
    "mult =lambda x,y:x*y\n",
    "def aumenta(v):\n",
    "    if v<100:\n",
    "        v+=10\n",
    "    return v\n",
    "x= list(map(aumenta,[mult(orders[i][2],orders[i][3]) for i in np.arange(len(orders))]))\n",
    "list(map(lambda x,y:(x[0],y),orders,x))"
   ]
  },
  {
   "cell_type": "markdown",
   "metadata": {},
   "source": [
    "> 2. La misma librería, pero esta vez trabajamos en una lista diferente. Las sublistas de nuestras listas se ven así: \n",
    "[número de orden, (número de artículo, cantidad, precio por unidad), ... (número de artículo, cantidad, precio por unidad)]. Escriba un programa que devuelva una lista de dos tuplas que tengan la información de (número de pedido, cantidad total de pedido). Utilice la función `Reduce`. Recuerde el precio del pedido del producto debe aumentarse en 10€ si el valor de la orden es inferior a 100,00 €."
   ]
  },
  {
   "cell_type": "markdown",
   "metadata": {},
   "source": [
    "#### Código de solución `ESTUDIANTE 1: ALEJANDRA RICO`"
   ]
  },
  {
   "cell_type": "code",
   "execution_count": 5,
   "metadata": {},
   "outputs": [
    {
     "data": {
      "text/plain": [
       "[[1, 688.3299999999999],\n",
       " [2, 504.46000000000004],\n",
       " [3, 374.79999999999995],\n",
       " [4, 502.57]]"
      ]
     },
     "execution_count": 5,
     "metadata": {},
     "output_type": "execute_result"
    }
   ],
   "source": [
    "orders2 = [[1, (\"5464\", 4, 9.99), (\"8274\",18,12.99), (\"9744\", 9, 44.95)], \n",
    "          [2, (\"5464\", 9, 9.99), (\"9744\", 9, 44.95)],\n",
    "          [3, (\"5464\", 9, 9.99), (\"88112\", 11, 24.99)],\n",
    "          [4, (\"8732\", 7, 11.99), (\"7733\",11,18.99), (\"88112\", 5, 39.95)]]\n",
    "r2 = list(map(lambda x: [x[0]] + list(map(lambda y: y[1]*y[2] if y[1]*y[2]>=100 else y[1]*y[2]+10, x[1:])), orders2))\n",
    "\n",
    "r2 = list(map(lambda x: [x[0]]+ \\\n",
    "                         [reduce(lambda a,b: a+b, x[1:])], r2))\n",
    "r2"
   ]
  },
  {
   "cell_type": "markdown",
   "metadata": {},
   "source": [
    "#### Código de solución `ESTUDIANTE 2: FRIDA HERNÁNDEZ`"
   ]
  },
  {
   "cell_type": "code",
   "execution_count": 3,
   "metadata": {},
   "outputs": [
    {
     "data": {
      "text/plain": [
       "[[1, 688.3299999999999],\n",
       " [2, 504.46000000000004],\n",
       " [3, 374.79999999999995],\n",
       " [4, 502.57]]"
      ]
     },
     "execution_count": 3,
     "metadata": {},
     "output_type": "execute_result"
    }
   ],
   "source": [
    "orders1 = [[1, (\"5464\", 4, 9.99), (\"8274\",18,12.99), (\"9744\", 9, 44.95)], \n",
    "          [2, (\"5464\", 9, 9.99), (\"9744\", 9, 44.95)],\n",
    "          [3, (\"5464\", 9, 9.99), (\"88112\", 11, 24.99)],\n",
    "           [4, (\"8732\", 7, 11.99), (\"7733\",11,18.99), (\"88112\", 5, 39.95)] ]\n",
    "\n",
    "from functools import reduce\n",
    "sol1 =list(map(lambda x: [x[0]] + list(map(lambda y: y[1]*y[2] \n",
    "                    if y[1]*y[2]>=100 else y[1]*y[2] +10 , x[1:])), orders1))\n",
    "\n",
    "list(map(lambda x: [x[0]] + [reduce(lambda a,b: a + b, x[1:])], sol1))"
   ]
  },
  {
   "cell_type": "markdown",
   "metadata": {},
   "source": [
    "> 3. Resolver los anteriores ejercicios usando pandas (DataFrame)"
   ]
  },
  {
   "cell_type": "markdown",
   "metadata": {},
   "source": [
    "#### Código de solución `ESTUDIANTE 1: ALEJANDRA RICO`"
   ]
  },
  {
   "cell_type": "markdown",
   "metadata": {},
   "source": [
    "##### Ejercicio 1"
   ]
  },
  {
   "cell_type": "code",
   "execution_count": 6,
   "metadata": {},
   "outputs": [
    {
     "data": {
      "text/html": [
       "<div>\n",
       "<style scoped>\n",
       "    .dataframe tbody tr th:only-of-type {\n",
       "        vertical-align: middle;\n",
       "    }\n",
       "\n",
       "    .dataframe tbody tr th {\n",
       "        vertical-align: top;\n",
       "    }\n",
       "\n",
       "    .dataframe thead th {\n",
       "        text-align: right;\n",
       "    }\n",
       "</style>\n",
       "<table border=\"1\" class=\"dataframe\">\n",
       "  <thead>\n",
       "    <tr style=\"text-align: right;\">\n",
       "      <th></th>\n",
       "      <th>Número de pedido</th>\n",
       "      <th>TOTAL</th>\n",
       "    </tr>\n",
       "  </thead>\n",
       "  <tbody>\n",
       "    <tr>\n",
       "      <th>0</th>\n",
       "      <td>34587</td>\n",
       "      <td>163.80</td>\n",
       "    </tr>\n",
       "    <tr>\n",
       "      <th>1</th>\n",
       "      <td>98762</td>\n",
       "      <td>284.00</td>\n",
       "    </tr>\n",
       "    <tr>\n",
       "      <th>2</th>\n",
       "      <td>77226</td>\n",
       "      <td>108.85</td>\n",
       "    </tr>\n",
       "    <tr>\n",
       "      <th>3</th>\n",
       "      <td>88112</td>\n",
       "      <td>84.97</td>\n",
       "    </tr>\n",
       "  </tbody>\n",
       "</table>\n",
       "</div>"
      ],
      "text/plain": [
       "  Número de pedido   TOTAL\n",
       "0            34587  163.80\n",
       "1            98762  284.00\n",
       "2            77226  108.85\n",
       "3            88112   84.97"
      ]
     },
     "execution_count": 6,
     "metadata": {},
     "output_type": "execute_result"
    }
   ],
   "source": [
    "orders = [[\"34587\", \"Learning Python, Mark Lutz\", 4, 40.95], \n",
    "          [\"98762\", \"Programming Python, Mark Lutz\", 5, 56.80], \n",
    "          [\"77226\", \"Head First Python, Paul Barry\", 3,32.95],\n",
    "          [\"88112\", \"Einführung in Python3, Bernd Klein\", 3, 24.99]]\n",
    "\n",
    "df1 = pd.DataFrame(data=orders, columns=['Número de pedido','Nombre','Cantidad','Costo individual'])\n",
    "ct = list(map(lambda n: (n[2]*n[3] if n[2]*n[3]>=100 else n[2]*n[3] +10),orders)) \n",
    "df1['TOTAL']= ct\n",
    "df1.iloc[:,[0,4]]"
   ]
  },
  {
   "cell_type": "markdown",
   "metadata": {},
   "source": [
    "##### Ejercicio 2"
   ]
  },
  {
   "cell_type": "code",
   "execution_count": 8,
   "metadata": {},
   "outputs": [
    {
     "data": {
      "text/html": [
       "<div>\n",
       "<style scoped>\n",
       "    .dataframe tbody tr th:only-of-type {\n",
       "        vertical-align: middle;\n",
       "    }\n",
       "\n",
       "    .dataframe tbody tr th {\n",
       "        vertical-align: top;\n",
       "    }\n",
       "\n",
       "    .dataframe thead th {\n",
       "        text-align: right;\n",
       "    }\n",
       "</style>\n",
       "<table border=\"1\" class=\"dataframe\">\n",
       "  <thead>\n",
       "    <tr style=\"text-align: right;\">\n",
       "      <th></th>\n",
       "      <th>Número de pedido</th>\n",
       "      <th>TOTAL</th>\n",
       "    </tr>\n",
       "  </thead>\n",
       "  <tbody>\n",
       "    <tr>\n",
       "      <th>0</th>\n",
       "      <td>1</td>\n",
       "      <td>688.33</td>\n",
       "    </tr>\n",
       "    <tr>\n",
       "      <th>1</th>\n",
       "      <td>2</td>\n",
       "      <td>504.46</td>\n",
       "    </tr>\n",
       "    <tr>\n",
       "      <th>2</th>\n",
       "      <td>3</td>\n",
       "      <td>374.80</td>\n",
       "    </tr>\n",
       "    <tr>\n",
       "      <th>3</th>\n",
       "      <td>4</td>\n",
       "      <td>502.57</td>\n",
       "    </tr>\n",
       "  </tbody>\n",
       "</table>\n",
       "</div>"
      ],
      "text/plain": [
       "   Número de pedido   TOTAL\n",
       "0                 1  688.33\n",
       "1                 2  504.46\n",
       "2                 3  374.80\n",
       "3                 4  502.57"
      ]
     },
     "execution_count": 8,
     "metadata": {},
     "output_type": "execute_result"
    }
   ],
   "source": [
    "orders2 = [[1, (\"5464\", 4, 9.99), (\"8274\",18,12.99), (\"9744\", 9, 44.95)], \n",
    "          [2, (\"5464\", 9, 9.99), (\"9744\", 9, 44.95)],\n",
    "          [3, (\"5464\", 9, 9.99), (\"88112\", 11, 24.99)],\n",
    "          [4, (\"8732\", 7, 11.99), (\"7733\",11,18.99), (\"88112\", 5, 39.95)]]\n",
    "\n",
    "df2 = pd.DataFrame(data=orders2, columns=['Número de pedido','Nombre','Cantidad','Costo individual'])\n",
    "ct2 = list(map(lambda x: [x[0]] + list(map(lambda y: y[1]*y[2] if y[1]*y[2]>=100 else y[1]*y[2]+10, x[1:])), orders2))\n",
    "ct2 =list(map(lambda x: reduce(lambda a,b: a+b, x[1:]), r2))\n",
    "df2['TOTAL']= ct2\n",
    "df2.iloc[:,[0,4]]"
   ]
  },
  {
   "cell_type": "markdown",
   "metadata": {},
   "source": [
    "#### Código de solución `ESTUDIANTE 2: FRIDA HERNÁNDEZ`"
   ]
  },
  {
   "cell_type": "markdown",
   "metadata": {},
   "source": [
    "##### Ejercicio 1"
   ]
  },
  {
   "cell_type": "code",
   "execution_count": 7,
   "metadata": {},
   "outputs": [
    {
     "data": {
      "text/html": [
       "<div>\n",
       "<style scoped>\n",
       "    .dataframe tbody tr th:only-of-type {\n",
       "        vertical-align: middle;\n",
       "    }\n",
       "\n",
       "    .dataframe tbody tr th {\n",
       "        vertical-align: top;\n",
       "    }\n",
       "\n",
       "    .dataframe thead th {\n",
       "        text-align: right;\n",
       "    }\n",
       "</style>\n",
       "<table border=\"1\" class=\"dataframe\">\n",
       "  <thead>\n",
       "    <tr style=\"text-align: right;\">\n",
       "      <th></th>\n",
       "      <th>0</th>\n",
       "      <th>Orden</th>\n",
       "    </tr>\n",
       "  </thead>\n",
       "  <tbody>\n",
       "    <tr>\n",
       "      <th>0</th>\n",
       "      <td>163.8</td>\n",
       "      <td>34587</td>\n",
       "    </tr>\n",
       "    <tr>\n",
       "      <th>1</th>\n",
       "      <td>284</td>\n",
       "      <td>98762</td>\n",
       "    </tr>\n",
       "    <tr>\n",
       "      <th>2</th>\n",
       "      <td>108.85</td>\n",
       "      <td>77226</td>\n",
       "    </tr>\n",
       "    <tr>\n",
       "      <th>3</th>\n",
       "      <td>84.97</td>\n",
       "      <td>88112</td>\n",
       "    </tr>\n",
       "  </tbody>\n",
       "</table>\n",
       "</div>"
      ],
      "text/plain": [
       "        0  Orden\n",
       "0   163.8  34587\n",
       "1     284  98762\n",
       "2  108.85  77226\n",
       "3   84.97  88112"
      ]
     },
     "execution_count": 7,
     "metadata": {},
     "output_type": "execute_result"
    }
   ],
   "source": [
    "import pandas as pd\n",
    "df=pd.DataFrame(columns=[\"Orden\",\"Libro & Autor\",\"Cantidad\",\"Precio por unidad\"], data=orders)\n",
    "res=[(df.iloc[##### Ejercicio 1:,-2]*df.iloc[:,-1]).apply(lambda x: x if x>=100 else (x+10))]\n",
    "\n",
    "res=pd.DataFrame(res)\n",
    "res=res.append(df.iloc[:,0])\n",
    "res.T"
   ]
  },
  {
   "cell_type": "markdown",
   "metadata": {},
   "source": [
    "##### Ejercicio 2"
   ]
  },
  {
   "cell_type": "code",
   "execution_count": 27,
   "metadata": {},
   "outputs": [
    {
     "data": {
      "text/html": [
       "<div>\n",
       "<style scoped>\n",
       "    .dataframe tbody tr th:only-of-type {\n",
       "        vertical-align: middle;\n",
       "    }\n",
       "\n",
       "    .dataframe tbody tr th {\n",
       "        vertical-align: top;\n",
       "    }\n",
       "\n",
       "    .dataframe thead th {\n",
       "        text-align: right;\n",
       "    }\n",
       "</style>\n",
       "<table border=\"1\" class=\"dataframe\">\n",
       "  <thead>\n",
       "    <tr style=\"text-align: right;\">\n",
       "      <th></th>\n",
       "      <th>0</th>\n",
       "    </tr>\n",
       "  </thead>\n",
       "  <tbody>\n",
       "    <tr>\n",
       "      <th>0</th>\n",
       "      <td>678.33</td>\n",
       "    </tr>\n",
       "    <tr>\n",
       "      <th>1</th>\n",
       "      <td>494.46</td>\n",
       "    </tr>\n",
       "    <tr>\n",
       "      <th>2</th>\n",
       "      <td>364.80</td>\n",
       "    </tr>\n",
       "    <tr>\n",
       "      <th>3</th>\n",
       "      <td>492.57</td>\n",
       "    </tr>\n",
       "  </tbody>\n",
       "</table>\n",
       "</div>"
      ],
      "text/plain": [
       "        0\n",
       "0  678.33\n",
       "1  494.46\n",
       "2  364.80\n",
       "3  492.57"
      ]
     },
     "execution_count": 27,
     "metadata": {},
     "output_type": "execute_result"
    }
   ],
   "source": [
    "orders2 = [[1, \"5464\", 4, 9.99, \"8274\",18,12.99, \"9744\", 9, 44.95], \n",
    "           [2, \"5464\", 9, 9.99, \"9744\", 9, 44.95, 0,0,0],\n",
    "           [3, \"5464\", 9, 9.99, \"88112\", 11, 24.99, 0,0,0],\n",
    "           [4, \"8732\", 7, 11.99, \"7733\",11,18.99, \"88112\", 5, 39.95]]\n",
    "\n",
    "df1=pd.DataFrame(data=orders2)\n",
    "\n",
    "res1= [((df1.iloc[:,2]*df1.iloc[:,3])+(df1.iloc[:,5]*df1.iloc[:,6])+(df1.iloc[:,8]*df1.iloc[:,9])).apply(lambda x: x if x>=100 else (x+10))]\n",
    "res1=pd.DataFrame(res1)\n",
    "res1.T"
   ]
  },
  {
   "cell_type": "markdown",
   "metadata": {},
   "source": [
    "> 4. Use filter to eliminate all words that are shorter than 4 letters from a list of words\n",
    "`list='the notion of a lambda function goes all the way back to the origin of computer science'`"
   ]
  },
  {
   "cell_type": "markdown",
   "metadata": {},
   "source": [
    "#### Código de solución `ESTUDIANTE 1: ALEJANDRA RICO`"
   ]
  },
  {
   "cell_type": "code",
   "execution_count": 9,
   "metadata": {},
   "outputs": [
    {
     "data": {
      "text/plain": [
       "['notion', 'lambda', 'function', 'origin', 'computer', 'science']"
      ]
     },
     "execution_count": 9,
     "metadata": {},
     "output_type": "execute_result"
    }
   ],
   "source": [
    "lista = 'the notion of a lambda function goes all the way back to the origin of computer science'\n",
    "words = lista.split()\n",
    "r4 = list(filter(lambda x: len(x)>4, words))\n",
    "r4"
   ]
  },
  {
   "cell_type": "markdown",
   "metadata": {},
   "source": [
    "#### Código de solución `ESTUDIANTE 2: FRIDA HERNÁNDEZ`"
   ]
  },
  {
   "cell_type": "code",
   "execution_count": 28,
   "metadata": {},
   "outputs": [
    {
     "data": {
      "text/plain": [
       "['notion',\n",
       " 'lambda',\n",
       " 'function',\n",
       " 'goes',\n",
       " 'back',\n",
       " 'origin',\n",
       " 'computer',\n",
       " 'science']"
      ]
     },
     "execution_count": 28,
     "metadata": {},
     "output_type": "execute_result"
    }
   ],
   "source": [
    "lista=['the','notion','of','a','lambda','function','goes','all','the','way','back','to','the','origin','of','computer','science']\n",
    "list(filter(lambda x: x if len(x) >=4 else None, lista))"
   ]
  },
  {
   "cell_type": "markdown",
   "metadata": {},
   "source": [
    "> 5. Use filter to determine the percentage of Fahrenheit temperatures in a list are within the range 32 to 80"
   ]
  },
  {
   "cell_type": "code",
   "execution_count": 30,
   "metadata": {},
   "outputs": [
    {
     "name": "stdout",
     "output_type": "stream",
     "text": [
      "[ 35.97387961  99.13294268  92.6178302   99.69549478  63.21119535\n",
      "  73.90387697  95.50028838  99.21476553  36.98251238 101.45813729\n",
      " 100.5917418   89.38159435  89.52156589  83.8084752   28.37990868\n",
      "  68.75395211  45.86132067  36.58307493  56.32208365  33.96219302\n",
      "  45.29071318  74.86289938  66.51091383  88.19316186  94.26635864\n",
      "  46.83131624 109.60744472 109.68427993  44.55796499  92.84146259]\n"
     ]
    }
   ],
   "source": [
    "np.random.seed(55555)\n",
    "temperatures = np.random.uniform(25,110,30)\n",
    "print(temperatures)"
   ]
  },
  {
   "cell_type": "markdown",
   "metadata": {},
   "source": [
    "#### Código de solución `ESTUDIANTE 1: ALEJANDRA RICO`"
   ]
  },
  {
   "cell_type": "code",
   "execution_count": 11,
   "metadata": {},
   "outputs": [
    {
     "data": {
      "text/plain": [
       "[35.97387961379455,\n",
       " 63.211195349983264,\n",
       " 73.90387696517755,\n",
       " 36.982512376595906,\n",
       " 68.75395211338406,\n",
       " 45.86132066984196,\n",
       " 36.58307493022292,\n",
       " 56.322083650154724,\n",
       " 33.9621930206693,\n",
       " 45.29071317816652,\n",
       " 74.86289938282341,\n",
       " 66.51091382521807,\n",
       " 46.831316244170544,\n",
       " 44.55796498523391]"
      ]
     },
     "execution_count": 11,
     "metadata": {},
     "output_type": "execute_result"
    }
   ],
   "source": [
    "temp = list(temperatures)\n",
    "r5 = list(filter(lambda x: 80>= x >= 32 , temp))\n",
    "r5"
   ]
  },
  {
   "cell_type": "code",
   "execution_count": 12,
   "metadata": {},
   "outputs": [
    {
     "name": "stdout",
     "output_type": "stream",
     "text": [
      "El porcentaje es: 46.666666666666664\n"
     ]
    }
   ],
   "source": [
    "print('El porcentaje es:', len(r5)/len(temp)*100)"
   ]
  },
  {
   "cell_type": "markdown",
   "metadata": {},
   "source": [
    "#### Código de solución `ESTUDIANTE 2: FRIDA HERNÁNDEZ`"
   ]
  },
  {
   "cell_type": "code",
   "execution_count": 31,
   "metadata": {},
   "outputs": [
    {
     "name": "stdout",
     "output_type": "stream",
     "text": [
      "46.666666666666664 %\n"
     ]
    }
   ],
   "source": [
    "rango=list(filter(lambda x: x if x >=32 and x<=80 else None, temperatures))\n",
    "percentage=lambda x,t: len(x)/len(t)\n",
    "print(percentage(rango,temperatures)*100, \"%\")"
   ]
  },
  {
   "cell_type": "markdown",
   "metadata": {},
   "source": [
    "> 6. Use reduce to find the lower left corner (minimum x and minimum y value) for a list of point locations.\n",
    "\n",
    "> **Hint**: Explore the command `np.minimum.reduce` [link](https://docs.scipy.org/doc/numpy/reference/generated/numpy.ufunc.reduce.html)"
   ]
  },
  {
   "cell_type": "code",
   "execution_count": 33,
   "metadata": {},
   "outputs": [
    {
     "name": "stdout",
     "output_type": "stream",
     "text": [
      "[[17 97]\n",
      " [22 33]\n",
      " [37 46]\n",
      " [57 28]\n",
      " [11 25]\n",
      " [14  2]\n",
      " [74 16]\n",
      " [12 37]\n",
      " [35 21]\n",
      " [66 65]\n",
      " [86 58]\n",
      " [67 81]\n",
      " [ 0 48]\n",
      " [28 66]\n",
      " [76 22]\n",
      " [46 47]\n",
      " [64  7]\n",
      " [88 94]\n",
      " [65 13]\n",
      " [75 89]\n",
      " [23 17]\n",
      " [36 63]\n",
      " [62 36]\n",
      " [64 17]\n",
      " [18 19]\n",
      " [88 41]\n",
      " [21 49]\n",
      " [98 36]\n",
      " [81 73]\n",
      " [62 90]]\n"
     ]
    }
   ],
   "source": [
    "np.random.seed(55555)\n",
    "point_xy = np.random.randint(0,100,[30,2])\n",
    "print(point_xy)"
   ]
  },
  {
   "cell_type": "markdown",
   "metadata": {},
   "source": [
    "#### Código de solución `ESTUDIANTE 1: ALEJANDRA RICO`"
   ]
  },
  {
   "cell_type": "code",
   "execution_count": 14,
   "metadata": {},
   "outputs": [
    {
     "data": {
      "text/plain": [
       "array([0, 2])"
      ]
     },
     "execution_count": 14,
     "metadata": {},
     "output_type": "execute_result"
    }
   ],
   "source": [
    "r6 = np.minimum.reduce(point_xy)\n",
    "r6"
   ]
  },
  {
   "cell_type": "markdown",
   "metadata": {},
   "source": [
    "#### Código de solución `ESTUDIANTE 2: FRIDA HERNÁNDEZ`"
   ]
  },
  {
   "cell_type": "code",
   "execution_count": 35,
   "metadata": {},
   "outputs": [
    {
     "data": {
      "text/plain": [
       "array([0, 2])"
      ]
     },
     "execution_count": 35,
     "metadata": {},
     "output_type": "execute_result"
    }
   ],
   "source": [
    "np.minimum.reduce(point_xy)"
   ]
  }
 ],
 "metadata": {
  "kernelspec": {
   "display_name": "Python 3",
   "language": "python",
   "name": "python3"
  },
  "language_info": {
   "codemirror_mode": {
    "name": "ipython",
    "version": 3
   },
   "file_extension": ".py",
   "mimetype": "text/x-python",
   "name": "python",
   "nbconvert_exporter": "python",
   "pygments_lexer": "ipython3",
   "version": "3.8.3"
  }
 },
 "nbformat": 4,
 "nbformat_minor": 4
}
